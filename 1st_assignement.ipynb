{
 "cells": [
  {
   "cell_type": "markdown",
   "metadata": {},
   "source": [
    "# Exercise 1\n",
    "Obtain the general formulation for the Google Adwords problem (described within slides 23-26 of the Linear Programming topic)."
   ]
  },
  {
   "cell_type": "markdown",
   "metadata": {},
   "source": [
    "**Data:**\n",
    "\n",
    "$a_i = $ maximum budget for company\n",
    "\n",
    "$b_j = $ maximum of expected request for query\n",
    "\n",
    "$c_{ij} = $ price per add/click\n",
    "\n",
    "**Variables:**\n",
    "\n",
    "$x_{ij} = $ Number of adds assigned per query and company\n",
    "\n",
    "$$\\max_{x_{ij}} \\quad \\sum_{i=1}^n \\sum_{j=1}^m c_{ij} x_{ij}$$\n",
    "\n",
    "$$s.t. \\quad \\sum_{i=1}^n x_{ij} \\leq b_j \\quad \\forall j$$\n",
    "$$\\sum_{j=1}^m c_{ij} x_{ij} \\leq a_i \\quad \\forall i$$\n",
    "$$x_{ij} \\geq 0 \\quad ij$$"
   ]
  },
  {
   "cell_type": "markdown",
   "metadata": {},
   "source": [
    "# Exercise 2\n",
    "Obtain its equivalent standard form.\n",
    "\n",
    "$$ \\max_x \\quad z = c^{\\top}x $$\n",
    "$$s.t. \\quad Ax = b $$\n",
    "$$x \\geq =0 $$\n",
    "\n",
    "where $x \\in {\\rm I\\!R}^n, c \\in {\\rm I\\!R}^n, A \\in {\\rm I\\!R}^{m\\times n}, and b \\in {\\rm I\\!R}^m$\n"
   ]
  },
  {
   "cell_type": "markdown",
   "metadata": {},
   "source": [
    "# Exercise 3\n",
    "Implement the model derived in 2) in Pyomo and solve it for the case of 10 companies and 10 queries (make up the data to be reasonable). Compute the sensitivities associated to each constraint. Report the results."
   ]
  },
  {
   "cell_type": "code",
   "execution_count": 5,
   "metadata": {
    "collapsed": false
   },
   "outputs": [
    {
     "name": "stdout",
     "output_type": "stream",
     "text": [
      "Overwriting 1st_assignement3.py\n"
     ]
    }
   ],
   "source": [
    "%%writefile 1st_assignement3.py\n",
    "\n",
    "from __future__ import division \n",
    "from pyomo.environ import *\n",
    "\n",
    "model = AbstractModel()\n",
    "\n",
    "# Future number must be NonNegative.\n",
    "model.n = Param(within=NonNegativeIntegers) #number of Companies \n",
    "model.m = Param(within=NonNegativeIntegers) #number of Queries\n",
    "\n",
    "\n",
    "model.I = RangeSet(1,model.n)\n",
    "model.J = RangeSet(1,model.m)\n",
    "\n",
    "\n",
    "model.r=Param(model.I, model.J) #Google Revenues\n",
    "model.q=Param(model.J) #Estimated number of requests\n",
    "model.b=Param(model.I) #Budget\n",
    "\n",
    "\n",
    "model.x=Var(model.I,model.J, domain=NonNegativeReals)\n",
    "\n",
    "#Objective\n",
    "def obj_expression(model):\n",
    "    return summation(model.r,model.x)\n",
    "model.OBJ= Objective(rule=obj_expression, sense= maximize)\n",
    "\n",
    "#Constraints:\n",
    "def q_constraint(model,j):\n",
    "    return sum(model.x[i,j] for i in model.I)<=model.q[j]\n",
    "\n",
    "model.que_cons=Constraint(model.J, rule=q_constraint)\n",
    "\n",
    "\n",
    "def b_constraint(model,i):\n",
    "    return sum(model.r[i,j]*model.x[i,j] for j in model.J)<=model.b[i]\n",
    "\n",
    "model.comp_cons=Constraint(model.I, rule=b_constraint)\n"
   ]
  },
  {
   "cell_type": "code",
   "execution_count": 20,
   "metadata": {
    "collapsed": false
   },
   "outputs": [
    {
     "name": "stdout",
     "output_type": "stream",
     "text": [
      "Overwriting 1st_assignement3.dat\n"
     ]
    }
   ],
   "source": [
    "%%writefile 1st_assignement3.dat\n",
    "\n",
    "\n",
    "param n :=3; #Companies\n",
    "param m :=3; #Queries\n",
    "param q :=\n",
    "    1 150\n",
    "    2 90\n",
    "    3 80\n",
    "    ;\n",
    "param b:=\n",
    "    1 200\n",
    "    2 151\n",
    "    3 180\n",
    "    ;\n",
    "param r: 1 2 3 :=\n",
    "1 1 0.75 5\n",
    "2 0.5 0.5 2\n",
    "3 0.5 3 1\n",
    ";"
   ]
  },
  {
   "cell_type": "code",
   "execution_count": 23,
   "metadata": {
    "collapsed": false
   },
   "outputs": [
    {
     "name": "stderr",
     "output_type": "stream",
     "text": [
      "usage: pyomo solve [options] <model_or_config_file> [<data_files>]\n",
      "pyomo solve: error: unrecognized arguments: --solver-suffixes=dual\n"
     ]
    }
   ],
   "source": [
    "!pyomo solve 1st_assignement3.py 1st_assignement3.dat --solver=glpk --summary --solver-suffix=dual"
   ]
  },
  {
   "cell_type": "code",
   "execution_count": 22,
   "metadata": {
    "collapsed": false
   },
   "outputs": [
    {
     "name": "stdout",
     "output_type": "stream",
     "text": [
      "# ==========================================================\n",
      "# = Solver Results                                         =\n",
      "# ==========================================================\n",
      "# ----------------------------------------------------------\n",
      "#   Problem Information\n",
      "# ----------------------------------------------------------\n",
      "Problem: \n",
      "- Name: unknown\n",
      "  Lower bound: 531.0\n",
      "  Upper bound: 531.0\n",
      "  Number of objectives: 1\n",
      "  Number of constraints: 7\n",
      "  Number of variables: 10\n",
      "  Number of nonzeros: 19\n",
      "  Sense: maximize\n",
      "# ----------------------------------------------------------\n",
      "#   Solver Information\n",
      "# ----------------------------------------------------------\n",
      "Solver: \n",
      "- Status: ok\n",
      "  Termination condition: optimal\n",
      "  Statistics: \n",
      "    Branch and bound: \n",
      "      Number of bounded subproblems: 0\n",
      "      Number of created subproblems: 0\n",
      "  Error rc: 0\n",
      "  Time: 0.0259997844696\n",
      "# ----------------------------------------------------------\n",
      "#   Solution Information\n",
      "# ----------------------------------------------------------\n",
      "Solution: \n",
      "- number of solutions: 1\n",
      "  number of solutions displayed: 1\n",
      "- Gap: 0.0\n",
      "  Status: feasible\n",
      "  Message: None\n",
      "  Objective:\n",
      "    OBJ:\n",
      "      Value: 531\n",
      "  Variable:\n",
      "    x[1,3]:\n",
      "      Value: 40\n",
      "    x[2,1]:\n",
      "      Value: 142\n",
      "    x[2,3]:\n",
      "      Value: 40\n",
      "    x[3,2]:\n",
      "      Value: 60\n",
      "  Constraint:\n",
      "    comp_cons[1]:\n",
      "      Dual: 1\n",
      "    comp_cons[2]:\n",
      "      Dual: 1\n",
      "    comp_cons[3]:\n",
      "      Dual: 1\n"
     ]
    }
   ],
   "source": [
    "!type results.yml"
   ]
  },
  {
   "cell_type": "code",
   "execution_count": null,
   "metadata": {
    "collapsed": true
   },
   "outputs": [],
   "source": [
    "%%writefile 1st_assignement3.py\n",
    "\n",
    "from __future__ import division \n",
    "from pyomo.environ import *\n",
    "\n",
    "model = AbstractModel()\n",
    "\n",
    "# Future number must be NonNegative.\n",
    "model.n = Param(within=NonNegativeIntegers) #number of Companies \n",
    "model.m = Param(within=NonNegativeIntegers) #number of Queries\n",
    "\n",
    "\n",
    "model.I = RangeSet(1,model.n)\n",
    "model.J = RangeSet(1,model.m)\n",
    "\n",
    "\n",
    "model.r=Param(model.I, model.J) #Google Revenues\n",
    "model.q=Param(model.J) #Estimated number of requests\n",
    "model.b=Param(model.I) #Budget\n",
    "\n",
    "\n",
    "model.x=Var(model.I,model.J, domain=NonNegativeReals)\n",
    "\n",
    "#Objective\n",
    "def obj_expression(model):\n",
    "    return summation(model.r,model.x)\n",
    "model.OBJ= Objective(rule=obj_expression, sense= maximize)\n",
    "\n",
    "\n",
    "#Constraints:\n",
    "def q_constraint(model,j):\n",
    "    return sum(model.x[i,j] for i in model.I)<=model.q[j]\n",
    "\n",
    "model.que_cons=Constraint(model.J, rule=q_constraint)\n",
    "\n",
    "\n",
    "def b_constraint(model,i):\n",
    "    return sum(model.r[i,j]*model.x[i,j] for j in model.J)<=model.b[i]\n",
    "\n",
    "model.comp_cons=Constraint(model.I, rule=b_constraint)"
   ]
  },
  {
   "cell_type": "markdown",
   "metadata": {},
   "source": [
    "# Exercise 4\n",
    "Given a linear programming problem in standard form:\n",
    "$$\\min_{x} \\quad z_P = c^{\\top} x $$ \n",
    "$$s.t. \\quad Ax = b $$\n",
    "$$x \\geq 0 $$\n",
    "we can define its dual problem as \n",
    "$$\\max_{y} \\quad z_D = b^{\\top} y $$\n",
    "$$s.t. \\quad A^{\\top}y\\geq c $$\n",
    "where $y$ is called teh dual variable vector.\n",
    "\n",
    "Considering this, formulate the dual problem associated to the model derived in 2) (check slide 60 of the Linear Programming topic for an example of this transformation)."
   ]
  },
  {
   "cell_type": "markdown",
   "metadata": {},
   "source": [
    "# Exercise 5\n",
    "Implement the dual model derived in 4) in Pyomo and solve it for the same data in 3). Report the results."
   ]
  },
  {
   "cell_type": "code",
   "execution_count": null,
   "metadata": {
    "collapsed": true
   },
   "outputs": [],
   "source": []
  },
  {
   "cell_type": "code",
   "execution_count": null,
   "metadata": {
    "collapsed": true
   },
   "outputs": [],
   "source": []
  },
  {
   "cell_type": "markdown",
   "metadata": {},
   "source": [
    "# Exercise 6\n",
    "The Strong Duality Theorem states that:\n",
    "\n",
    "If $x^*$ is the optimal solution of the primal minimization LP problem, and $y^*$ is the dual optimal solution of the corresponding dual maximization LP problem, then\n",
    "\n",
    "$$z^*_D = b^{\\top} y^* = c^{\\top} x^* = z^*_P $$\n",
    "\n",
    "Comparing the solutions in 3) and 5), check if the Strong Duality Theorem holds. What is the relationship between the sensitivities computed in 3) and the optimal value of the dual variables obtained in 5)?"
   ]
  },
  {
   "cell_type": "markdown",
   "metadata": {},
   "source": [
    "# Exercise 7\n",
    "Imagine now that google is able to display simultaneously n company ads for each requested query (instead of only one). Moreover, assume that the specific order in which these ads are displayed is important. Indicate how the model in 1) would need to be modified to account for these facts. Also, indicate if any additional problem data will be necessary for this new setting."
   ]
  },
  {
   "cell_type": "markdown",
   "metadata": {},
   "source": [
    "# IMPORTANT:\n",
    "\n",
    "Upload the formulations 1), 2), 4) and 7) as well as the answers to the different questions in a pdf file (generated with MSWord, latex or similar) and the codes for 3) and 5) as separated .py and .dat files.\n",
    "\n",
    "This assignment can be done individually or in groups (up to 4 components). Groups must be the same for all the assignments. Files need to be uploaded by only one member of the group. Do not forget to indicate in the pdf file all the group’s components."
   ]
  }
 ],
 "metadata": {
  "anaconda-cloud": {},
  "kernelspec": {
   "display_name": "Python [default]",
   "language": "python",
   "name": "python2"
  },
  "language_info": {
   "codemirror_mode": {
    "name": "ipython",
    "version": 2
   },
   "file_extension": ".py",
   "mimetype": "text/x-python",
   "name": "python",
   "nbconvert_exporter": "python",
   "pygments_lexer": "ipython2",
   "version": "2.7.12"
  }
 },
 "nbformat": 4,
 "nbformat_minor": 0
}
