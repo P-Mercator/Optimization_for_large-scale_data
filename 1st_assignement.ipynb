{
 "cells": [
  {
   "cell_type": "markdown",
   "metadata": {},
   "source": [
    "# Exercise 1\n",
    "Obtain the general formulation for the Google Adwords problem (described within slides 23-26 of the Linear Programming topic)."
   ]
  },
  {
   "cell_type": "markdown",
   "metadata": {},
   "source": [
    "**Data:**\n",
    "\n",
    "$a_i = $ maximum budget for company\n",
    "\n",
    "$b_j = $ maximum of expected request for query\n",
    "\n",
    "$c_{ij} = $ price per add/click\n",
    "\n",
    "**Variables:**\n",
    "\n",
    "$x_{ij} = $ Number of adds assigned per query and company\n",
    "\n",
    "$$\\max_{x_{ij}} \\quad \\sum_{i=1}^n \\sum_{j=1}^m c_{ij} x_{ij}$$\n",
    "\n",
    "$$s.t. \\quad \\sum_{i=1}^n x_{ij} \\leq b_j \\quad \\forall j$$\n",
    "$$\\sum_{j=1}^m c_{ij} x_{ij} \\leq a_i \\quad \\forall i$$\n",
    "$$x_{ij} \\geq 0 \\quad ij$$"
   ]
  },
  {
   "cell_type": "markdown",
   "metadata": {},
   "source": [
    "# Exercise 2\n",
    "Obtain its equivalent standard form.\n",
    "\n",
    "$$ \\max_x \\quad z = c^{\\top}x $$\n",
    "$$s.t. \\quad Ax = b $$\n",
    "$$x \\geq =0 $$\n",
    "\n",
    "where $x \\in {\\rm I\\!R}^n, c \\in {\\rm I\\!R}^n, A \\in {\\rm I\\!R}^{m\\times n}, and b \\in {\\rm I\\!R}^m$\n"
   ]
  },
  {
   "cell_type": "markdown",
   "metadata": {},
   "source": [
    "# Exercise 3\n",
    "Implement the model derived in 2) in Pyomo and solve it for the case of 10 companies and 10 queries (make up the data to be reasonable). Compute the sensitivities associated to each constraint. Report the results."
   ]
  },
  {
   "cell_type": "markdown",
   "metadata": {},
   "source": [
    "# Exercise 4\n",
    "Given a linear programming problem in standard form:\n",
    "$$\\min_{x} \\quad z_P = c^{\\top} x $$ \n",
    "$$s.t. \\quad Ax = b $$\n",
    "$$x \\geq 0 $$\n",
    "we can define its dual problem as \n",
    "$$\\max_{y} \\quad z_D = b^{\\top} y $$\n",
    "$$s.t. \\quad A^{\\top}y\\geq c $$\n",
    "where $y$ is called teh dual variable vector.\n",
    "\n",
    "Considering this, formulate the dual problem associated to the model derived in 2) (check slide 60 of the Linear Programming topic for an example of this transformation)."
   ]
  },
  {
   "cell_type": "markdown",
   "metadata": {},
   "source": [
    "# Exercise 5\n",
    "Implement the dual model derived in 4) in Pyomo and solve it for the same data in 3). Report the results."
   ]
  },
  {
   "cell_type": "markdown",
   "metadata": {},
   "source": [
    "# Exercise 6\n",
    "The Strong Duality Theorem states that:\n",
    "\n",
    "If $x^*$ is the optimal solution of the primal minimization LP problem, and $y^*$ is the dual optimal solution of the corresponding dual maximization LP problem, then\n",
    "\n",
    "$$z^*_D = b^{\\top} y^* = c^{\\top} x^* = z^*_P $$\n",
    "\n",
    "Comparing the solutions in 3) and 5), check if the Strong Duality Theorem holds. What is the relationship between the sensitivities computed in 3) and the optimal value of the dual variables obtained in 5)?"
   ]
  },
  {
   "cell_type": "markdown",
   "metadata": {},
   "source": [
    "# Exercise 7\n",
    "Imagine now that google is able to display simultaneously n company ads for each requested query (instead of only one). Moreover, assume that the specific order in which these ads are displayed is important. Indicate how the model in 1) would need to be modified to account for these facts. Also, indicate if any additional problem data will be necessary for this new setting."
   ]
  },
  {
   "cell_type": "markdown",
   "metadata": {},
   "source": [
    "# IMPORTANT:\n",
    "\n",
    "Upload the formulations 1), 2), 4) and 7) as well as the answers to the different questions in a pdf file (generated with MSWord, latex or similar) and the codes for 3) and 5) as separated .py and .dat files.\n",
    "\n",
    "This assignment can be done individually or in groups (up to 4 components). Groups must be the same for all the assignments. Files need to be uploaded by only one member of the group. Do not forget to indicate in the pdf file all the group’s components."
   ]
  }
 ],
 "metadata": {
  "kernelspec": {
   "display_name": "Python 2",
   "language": "python",
   "name": "python2"
  },
  "language_info": {
   "codemirror_mode": {
    "name": "ipython",
    "version": 2
   },
   "file_extension": ".py",
   "mimetype": "text/x-python",
   "name": "python",
   "nbconvert_exporter": "python",
   "pygments_lexer": "ipython2",
   "version": "2.7.11"
  }
 },
 "nbformat": 4,
 "nbformat_minor": 0
}
