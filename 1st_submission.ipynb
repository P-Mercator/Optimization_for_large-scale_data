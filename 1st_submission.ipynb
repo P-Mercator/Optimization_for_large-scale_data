{
 "cells": [
  {
   "cell_type": "markdown",
   "metadata": {},
   "source": [
    "# Group Members\n",
    "Pierre Mercatoris -- Sergio Gámez Ruiz de Olano -- Pablo Bordons Estrada -- Mohammadmehdi Fayazbakhsh"
   ]
  },
  {
   "cell_type": "markdown",
   "metadata": {},
   "source": [
    "# Exercise 1\n",
    "Obtain the general formulation for the Google Adwords problem (described within slides 23-26 of the Linear Programming topic)."
   ]
  },
  {
   "cell_type": "markdown",
   "metadata": {},
   "source": [
    "**Data:**\n",
    "\n",
    "$a_i = $ maximum budget for company\n",
    "\n",
    "$b_j = $ maximum of expected request for query\n",
    "\n",
    "$c_{ij} = $ cost per add/click\n",
    "\n",
    "**Variables:**\n",
    "\n",
    "$x_{ij} = $ Number of adds assigned per query and company\n",
    "\n",
    "$$\\max_{x_{ij}} \\quad \\sum_{i=1}^n \\sum_{j=1}^m c_{ij} x_{ij}$$\n",
    "\n",
    "$$s.t. \\quad \\sum_{i=1}^n x_{ij} \\leq b_j \\quad \\forall \\, j$$\n",
    "$$\\sum_{j=1}^m c_{ij} x_{ij} \\leq a_i \\quad \\forall \\, i$$\n",
    "$$x_{ij} \\geq 0 \\quad \\forall \\, i,j$$"
   ]
  },
  {
   "cell_type": "markdown",
   "metadata": {},
   "source": [
    "# Exercise 2\n",
    "Obtain its equivalent standard form.\n",
    "\n",
    "$$ \\min_x \\quad z = c^{\\top}x $$\n",
    "$$s.t. \\quad Ax = b $$\n",
    "$$x \\geq 0 $$\n",
    "\n",
    "where $x \\in {\\rm I\\!R}^n, c \\in {\\rm I\\!R}^n, A \\in {\\rm I\\!R}^{m\\times n}$ and $ b \\in {\\rm I\\!R}^m$\n",
    "\n",
    "$$c=(1,0.75,5,0.5,0.5,2,0.5,3,1,0,0,0,0,0,0)^\\top$$\n",
    "$$x=(x_{A1}, x_{A2}, x_{A3},x_{B1}, x_{B2}, x_{B3},x_{C1}, x_{C2}, x_{C3}, z_1, z_2,z_3,z_4,z_5,z_6 )$$\n",
    "\n",
    "$$x_{A1} + 0.75 x_{A2} + 5 x_{A3} +z_1 = 200 $$\n",
    "$$0.5x_{B1} + 0.5 x_{B2} + 2 x_{B3} +z_2 = 150 $$\n",
    "$$0.5x_{C1} + 3 x_{C2} + x_{C3} +z_3 = 180 $$\n",
    "$$x_{A1}+x_{B1}+x_{C1}+z_4=150$$\n",
    "$$x_{A2}+x_{B2}+x_{C2}+z_5=90$$\n",
    "$$x_{A3}+x_{B3}+x_{C3}+z_6=80$$\n",
    "\n",
    "$$\n",
    "A =\\left| \\begin{array}{ccccccccccccccc}\n",
    "1 & 0.75 & 5 & 0 & 0 & 0 & 0 & 0 & 0 & 1 & 0 &0 & 0 & 0 & 0 \\\\\n",
    "0 & 0 & 0 & 0.5 & 0.5 & 2 & 0 & 0 & 0 & 0 & 1 &0 & 0 & 0 & 0 \\\\\n",
    "0 & 0 & 0 & 0 & 0 & 0 & 0.5 & 3 & 1 & 0 & 0 & 1 & 0 & 0 & 0 \\\\\n",
    "1 & 0 & 0 & 1 & 0 & 0 & 1 & 0 & 0 & 0 & 0 &0 & 1 & 0 & 0 \\\\\n",
    "0 & 1 & 0 & 0 & 1 & 0 & 0 & 1 & 0 & 0 & 0 &0 & 0 & 1 & 0 \\\\\n",
    "0 & 0 & 1 & 0 & 0 & 1 & 0 & 0 & 1 & 0 & 0 &0 & 0 & 0 & 1 \\\\\n",
    "\\end{array} \\right|\n",
    "$$"
   ]
  },
  {
   "cell_type": "markdown",
   "metadata": {},
   "source": [
    "# Exercise 3\n",
    "Implement the model derived in 2) in Pyomo and solve it for the case of 10 companies and 10 queries (make up the data to be reasonable). Compute the sensitivities associated to each constraint. Report the results."
   ]
  },
  {
   "cell_type": "code",
   "execution_count": 20,
   "metadata": {
    "collapsed": false
   },
   "outputs": [
    {
     "name": "stdout",
     "output_type": "stream",
     "text": [
      "Overwriting 1st_assignement3.py\n"
     ]
    }
   ],
   "source": [
    "%%writefile 1st_assignement3.py\n",
    "\n",
    "#structure of the code from https://github.com/Pyomo/PyomoGettingStarted/blob/master/01_PyomoOverview.ipynb\n",
    "\n",
    "from __future__ import division \n",
    "from pyomo.environ import *\n",
    "\n",
    "model = AbstractModel()\n",
    "\n",
    "model.m = Param(within=NonNegativeIntegers) # Number of queries\n",
    "model.n = Param(within=NonNegativeIntegers) # Number of companies\n",
    "\n",
    "model.Ia = RangeSet(1, model.m+model.n)\n",
    "model.Ja = RangeSet(1, (model.m*model.n) + (model.m+model.n))\n",
    "model.I = RangeSet(1,model.n)\n",
    "model.J = RangeSet(1,model.m)\n",
    "\n",
    "model.a = Param(model.Ia, model.Ja)\n",
    "model.b=Param(model.Ia) #Budget\n",
    "model.c = Param(model.Ja)\n",
    "\n",
    "model.x = Var(model.Ja, domain=NonNegativeReals)\n",
    "\n",
    "def obj_expression(model):\n",
    "    return summation(model.c, model.x)\n",
    "\n",
    "#std form - minimize\n",
    "model.OBJ = Objective(rule=obj_expression)\n",
    "\n",
    "\n",
    "def ax_constraint_rule(model, i):\n",
    "    # return the expression for the constraint for i\n",
    "    return sum(model.a[i,j] * model.x[j] for j in model.Ja) == model.b[i]\n",
    "\n",
    "# the next line creates one constraint for each member of the set model.I\n",
    "model.AxbConstraint = Constraint(model.Ia, rule=ax_constraint_rule)\n"
   ]
  },
  {
   "cell_type": "code",
   "execution_count": 41,
   "metadata": {
    "collapsed": false
   },
   "outputs": [
    {
     "name": "stdout",
     "output_type": "stream",
     "text": [
      "Overwriting 1st_assignement3.dat\n"
     ]
    }
   ],
   "source": [
    "%%writefile 1st_assignement3.dat\n",
    "\n",
    "\n",
    "param n :=10; #Companies\n",
    "param m :=10; #Queries\n",
    "    \n",
    "param c := #revenue - as negative for the std form\n",
    "    1 -1.4\n",
    "    2 -4.2\n",
    "    3 -2.1\n",
    "    4 -0.5\n",
    "    5 -0.5\n",
    "    6 -2\n",
    "    7 -0.5 \n",
    "    8 -3\n",
    "    9 -1\n",
    "    10 0\n",
    "    11 0\n",
    "    12 0\n",
    "    13 0\n",
    "    14 0\n",
    "    15 0\n",
    "    16 0\n",
    "    17 0\n",
    "    18 0\n",
    "    19 0\n",
    "    20 0\n",
    "    ;\n",
    "       \n",
    "param b:=\n",
    "    1 179\n",
    "    2 118\n",
    "    3 126\n",
    "    4 150\n",
    "    5 90\n",
    "    6 80\n",
    "    7 151\n",
    "    8 157\n",
    "    9 92\n",
    "    10 197\n",
    "    11 168\n",
    "    12 163\n",
    "    13 187\n",
    "    14 97\n",
    "    15 192\n",
    "    16 149\n",
    "    17 127\n",
    "    18 178\n",
    "    19 112\n",
    "    20 187\n",
    "    ;\n",
    "    \n",
    "\n",
    "model.z = Param()\n",
    "\n",
    "data.load(filename='matrix.csv', param=model.z)\n",
    "\n",
    "param a: 1 2 3 4 5 6 7 8 9 10 11 12 13 14 15 :=\n",
    "1 1 0.75 5 0 0 0 0 0 0 1 0 0 0 0 0\n",
    "2 0 0 0 0.5 0.5 2 0 0 0 0 1 0 0 0 0\n",
    "3 0 0 0 0 0 0 0.5 3 1 0 0 1 0 0 0\n",
    "4 1 0 0 1 0 0 1 0 0 0 0 0 1 0 0\n",
    "5 0 1 0 0 1 0 0 1 0 0 0 0 0 1 0\n",
    "6 0 0 1 0 0 1 0 0 1 0 0 0 0 0 1\n",
    ";"
   ]
  },
  {
   "cell_type": "code",
   "execution_count": 48,
   "metadata": {
    "collapsed": false
   },
   "outputs": [
    {
     "name": "stdout",
     "output_type": "stream",
     "text": [
      "1.672\n",
      "2.817\n",
      "3.062\n",
      "1.228\n",
      "0.805\n",
      "4.382\n",
      "1.481\n",
      "1.680\n",
      "1.379\n",
      "0.201\n",
      "3.124\n",
      "1.072\n",
      "3.278\n",
      "1.278\n",
      "1.313\n",
      "0.255\n",
      "2.821\n",
      "0.406\n",
      "4.544\n",
      "3.140\n",
      "0.011\n",
      "3.792\n",
      "2.764\n",
      "2.600\n",
      "4.748\n",
      "1.294\n",
      "4.219\n",
      "2.029\n",
      "0.560\n",
      "4.665\n",
      "4.001\n",
      "2.972\n",
      "1.092\n",
      "4.330\n",
      "0.535\n",
      "1.260\n",
      "4.740\n",
      "4.798\n",
      "1.039\n",
      "1.984\n",
      "0.912\n",
      "3.695\n",
      "1.429\n",
      "1.916\n",
      "1.467\n",
      "4.265\n",
      "3.953\n",
      "3.274\n",
      "1.789\n",
      "3.576\n",
      "2.953\n",
      "3.628\n",
      "2.563\n",
      "1.490\n",
      "3.701\n",
      "1.189\n",
      "4.781\n",
      "0.954\n",
      "4.891\n",
      "2.904\n",
      "0.552\n",
      "4.387\n",
      "1.367\n",
      "2.762\n",
      "0.452\n",
      "4.860\n",
      "4.344\n",
      "1.300\n",
      "0.599\n",
      "3.919\n",
      "4.368\n",
      "4.735\n",
      "1.581\n",
      "0.923\n",
      "0.613\n",
      "0.551\n",
      "0.611\n",
      "4.957\n",
      "0.086\n",
      "1.857\n",
      "4.871\n",
      "1.819\n",
      "3.495\n",
      "2.296\n",
      "0.716\n",
      "3.341\n",
      "0.276\n",
      "2.009\n",
      "0.974\n",
      "4.284\n",
      "3.518\n",
      "2.441\n",
      "3.741\n",
      "0.305\n",
      "1.233\n",
      "2.242\n",
      "1.978\n",
      "2.830\n",
      "2.436\n",
      "0.598\n"
     ]
    }
   ],
   "source": [
    "for i in xrange(100):\n",
    "    print '%04.3f' % random.uniform(0, 5)"
   ]
  },
  {
   "cell_type": "code",
   "execution_count": 22,
   "metadata": {
    "collapsed": false
   },
   "outputs": [
    {
     "name": "stdout",
     "output_type": "stream",
     "text": [
      "[    0.00] Setting up Pyomo environment\r\n",
      "[    0.00] Applying Pyomo preprocessing actions\r\n",
      "[    0.00] Creating model\r\n",
      "[    0.02] Applying solver\r\n",
      "[    0.03] Processing results\r\n",
      "    Number of solutions: 1\r\n",
      "    Solution Information\r\n",
      "      Gap: 0.0\r\n",
      "      Status: optimal\r\n",
      "      Function Value: -530.0\r\n",
      "    Solver results file: results.yml\r\n",
      "\r\n",
      "==========================================================\r\n",
      "Solution Summary\r\n",
      "==========================================================\r\n",
      "\r\n",
      "Model unknown\r\n",
      "\r\n",
      "  Variables:\r\n",
      "    x : Size=15, Index=Ja\r\n",
      "        Key : Lower : Value : Upper : Fixed : Stale : Domain\r\n",
      "          1 :     0 :     0 :  None : False : False : NonNegativeReals\r\n",
      "          2 :     0 :     0 :  None : False : False : NonNegativeReals\r\n",
      "          3 :     0 :    40 :  None : False : False : NonNegativeReals\r\n",
      "          4 :     0 :   110 :  None : False : False : NonNegativeReals\r\n",
      "          5 :     0 :    30 :  None : False : False : NonNegativeReals\r\n",
      "          6 :     0 :    40 :  None : False : False : NonNegativeReals\r\n",
      "          7 :     0 :     0 :  None : False : False : NonNegativeReals\r\n",
      "          8 :     0 :    60 :  None : False : False : NonNegativeReals\r\n",
      "          9 :     0 :     0 :  None : False : False : NonNegativeReals\r\n",
      "         10 :     0 :     0 :  None : False : False : NonNegativeReals\r\n",
      "         11 :     0 :     0 :  None : False : False : NonNegativeReals\r\n",
      "         12 :     0 :     0 :  None : False : False : NonNegativeReals\r\n",
      "         13 :     0 :    40 :  None : False : False : NonNegativeReals\r\n",
      "         14 :     0 :     0 :  None : False : False : NonNegativeReals\r\n",
      "         15 :     0 :     0 :  None : False : False : NonNegativeReals\r\n",
      "\r\n",
      "  Objectives:\r\n",
      "    OBJ : Size=1, Index=None, Active=True\r\n",
      "        Key  : Active : Value\r\n",
      "        None :   True : -530.0\r\n",
      "\r\n",
      "  Constraints:\r\n",
      "    AxbConstraint : Size=6\r\n",
      "        Key : Lower : Body  : Upper\r\n",
      "          1 : 200.0 : 200.0 : 200.0\r\n",
      "          2 : 150.0 : 150.0 : 150.0\r\n",
      "          3 : 180.0 : 180.0 : 180.0\r\n",
      "          4 : 150.0 :   150 : 150.0\r\n",
      "          5 :  90.0 :    90 :  90.0\r\n",
      "          6 :  80.0 :    80 :  80.0\r\n",
      "\r\n",
      "[    0.03] Applying Pyomo postprocessing actions\r\n",
      "[    0.03] Pyomo Finished\r\n"
     ]
    }
   ],
   "source": [
    "!pyomo solve 1st_assignement3.py 1st_assignement3.dat --solver=glpk --summary --solver-suffix=dual"
   ]
  },
  {
   "cell_type": "code",
   "execution_count": 23,
   "metadata": {
    "collapsed": false
   },
   "outputs": [
    {
     "name": "stdout",
     "output_type": "stream",
     "text": [
      "# ==========================================================\r\n",
      "# = Solver Results                                         =\r\n",
      "# ==========================================================\r\n",
      "# ----------------------------------------------------------\r\n",
      "#   Problem Information\r\n",
      "# ----------------------------------------------------------\r\n",
      "Problem: \r\n",
      "- Lower bound: -530.0\r\n",
      "  Upper bound: -530.0\r\n",
      "  Number of objectives: 1\r\n",
      "  Number of constraints: 7\r\n",
      "  Number of variables: 16\r\n",
      "  Number of nonzeros: 25\r\n",
      "  Sense: minimize\r\n",
      "# ----------------------------------------------------------\r\n",
      "#   Solver Information\r\n",
      "# ----------------------------------------------------------\r\n",
      "Solver: \r\n",
      "- Status: ok\r\n",
      "  Termination condition: optimal\r\n",
      "  Error rc: 0\r\n",
      "  Time: 0.00387406349182\r\n",
      "# ----------------------------------------------------------\r\n",
      "#   Solution Information\r\n",
      "# ----------------------------------------------------------\r\n",
      "Solution: \r\n",
      "- number of solutions: 1\r\n",
      "  number of solutions displayed: 1\r\n",
      "- Gap: 0.0\r\n",
      "  Status: optimal\r\n",
      "  Message: None\r\n",
      "  Objective:\r\n",
      "    OBJ:\r\n",
      "      Value: -530\r\n",
      "  Variable:\r\n",
      "    x[13]:\r\n",
      "      Value: 40\r\n",
      "    x[3]:\r\n",
      "      Value: 40\r\n",
      "    x[4]:\r\n",
      "      Value: 110\r\n",
      "    x[5]:\r\n",
      "      Value: 30\r\n",
      "    x[6]:\r\n",
      "      Value: 40\r\n",
      "    x[8]:\r\n",
      "      Value: 60\r\n",
      "  Constraint:\r\n",
      "    AxbConstraint[1]:\r\n",
      "      Dual: -1\r\n",
      "    AxbConstraint[2]:\r\n",
      "      Dual: -1\r\n",
      "    AxbConstraint[3]:\r\n",
      "      Dual: -1\r\n"
     ]
    }
   ],
   "source": [
    "!cat results.yml"
   ]
  },
  {
   "cell_type": "markdown",
   "metadata": {},
   "source": [
    "# Exercise 4\n",
    "Given a linear programming problem in standard form:\n",
    "$$\\min_{x} \\quad z_P = c^{\\top} x $$ \n",
    "$$s.t. \\quad Ax = b $$\n",
    "$$x \\geq 0 $$\n",
    "we can define its dual problem as \n",
    "$$\\max_{y} \\quad z_D = b^{\\top} y $$\n",
    "$$s.t. \\quad A^{\\top}y\\geq c $$\n",
    "where $y$ is called teh dual variable vector.\n",
    "\n",
    "Considering this, formulate the dual problem associated to the model derived in 2) (check slide 60 of the Linear Programming topic for an example of this transformation)."
   ]
  },
  {
   "cell_type": "markdown",
   "metadata": {},
   "source": [
    "$$ \\max_y \\quad Z_D = [200, 150, 180, 150, 90, 80] \\times y \\\\\n",
    "= 200 y_1 + 150 y_2 + 180 y_3 + 150 y_4 + 90 y_5 + 80 y_6\n",
    "$$\n",
    "\n",
    "$$\n",
    "A^{\\top} =\\left| \\begin{array}{cccccc}\n",
    "1 & 0 & 0 & 1 & 0 & 0 \\\\\n",
    "0.75 & 0 & 0 & 0 & 1 & 0 \\\\\n",
    "5 & 0 & 0 & 0 & 0 & 1 \\\\\n",
    "0 & 0.5 & 0 & 1 & 0 & 0 \\\\\n",
    "0 & 0.5 & 0 & 0 & 1 & 0 \\\\\n",
    "0 & 2 & 0 & 0 & 0 & 1 \\\\\n",
    "0 & 0 & 0.5 & 1 & 0 & 0 \\\\\n",
    "0 & 0 & 3 & 0 & 1 & 0 \\\\\n",
    "0 & 0 & 1 & 0 & 0 & 1 \\\\\n",
    "1 & 0 & 0 & 0 & 0 & 0 \\\\\n",
    "0 & 1 & 0 & 0 & 0 & 0 \\\\\n",
    "0 & 0 & 1 & 0 & 0 & 0 \\\\\n",
    "0 & 0 & 0 & 1 & 0 & 0 \\\\\n",
    "0 & 0 & 0 & 0 & 1 & 0 \\\\\n",
    "0 & 0 & 0 & 0 & 0 & 1 \\\\\n",
    "\\end{array} \\right|\n",
    "$$\n",
    "\n",
    "$$ A^{\\top} \\, y \\leq -c $$\n",
    "\n",
    "$$\n",
    "y_1 + y_4 \\leq -1 \\\\\n",
    "0.75\\, y_1 + y_5 \\leq -0.75 \\\\\n",
    "5\\, y_1 + y_6  \\leq -5 \\\\\n",
    "0.5 \\, y_2 + y_4 \\leq -0.5 \\\\\n",
    "0.5 \\, y_2 + y_5 \\leq -0.5 \\\\\n",
    "2\\, y_2 + y_6 \\leq -2 \\\\\n",
    "0.5\\, y_3 + y_4 \\leq -0.5 \\\\\n",
    "3 \\, y_3 + y_5 \\leq -3 \\\\\n",
    "y_3 + y_6 \\leq -1 \\\\\n",
    "$$\n",
    "\n",
    "$$ y_1, y_2,y_3,y_4,y_5,y_6, \\leq 0 $$"
   ]
  },
  {
   "cell_type": "markdown",
   "metadata": {},
   "source": [
    "# Exercise 5\n",
    "Implement the dual model derived in 4) in Pyomo and solve it for the same data in 3). Report the results."
   ]
  },
  {
   "cell_type": "code",
   "execution_count": 34,
   "metadata": {
    "collapsed": false
   },
   "outputs": [
    {
     "name": "stdout",
     "output_type": "stream",
     "text": [
      "Overwriting 1st_assignement3_dual.py\n"
     ]
    }
   ],
   "source": [
    "%%writefile 1st_assignement3_dual.py\n",
    "\n",
    "from __future__ import division \n",
    "from pyomo.environ import *\n",
    "\n",
    "model = AbstractModel()\n",
    "\n",
    "model.m = Param(within=NonNegativeIntegers)\n",
    "model.n = Param(within=NonNegativeIntegers)\n",
    "\n",
    "model.Ia = RangeSet(1, model.m+model.n)\n",
    "model.Ja = RangeSet(1, (model.m*model.n) + (model.m+model.n))\n",
    "\n",
    "model.a = Param(model.Ia, model.Ja)\n",
    "model.b = Param(model.Ia)\n",
    "model.c = Param(model.Ja)\n",
    "\n",
    "# the next line declares a variable indexed by the set J\n",
    "model.y = Var(model.Ia, domain=Reals)\n",
    "\n",
    "#maximize\n",
    "def obj_expression(model):\n",
    "    return summation(model.b, model.y)\n",
    "\n",
    "model.OBJ = Objective(rule=obj_expression, sense = maximize)\n",
    "\n",
    "#we need to do At*y, but changing the indexes to \n",
    "#access the matrix does the trick\n",
    "def ax_constraint_rule(model, j):\n",
    "    # return the expression for the constraint for i\n",
    "    return sum(model.a[i,j] * model.y[i] for i in model.Ia) <= model.c[j]\n",
    "\n",
    "# the next line creates one constraint for each member of the set model.I\n",
    "model.AxbConstraint = Constraint(model.Ja, rule=ax_constraint_rule)"
   ]
  },
  {
   "cell_type": "code",
   "execution_count": 35,
   "metadata": {
    "collapsed": false
   },
   "outputs": [
    {
     "name": "stdout",
     "output_type": "stream",
     "text": [
      "[    0.00] Setting up Pyomo environment\n",
      "[    0.00] Applying Pyomo preprocessing actions\n",
      "[    0.00] Creating model\n",
      "[    0.02] Applying solver\n",
      "[    0.03] Processing results\n",
      "    Number of solutions: 1\n",
      "    Solution Information\n",
      "      Gap: 0.0\n",
      "      Status: optimal\n",
      "      Function Value: -530\n",
      "    Solver results file: results.yml\n",
      "\n",
      "==========================================================\n",
      "Solution Summary\n",
      "==========================================================\n",
      "\n",
      "Model unknown\n",
      "\n",
      "  Variables:\n",
      "    y : Size=6, Index=Ia\n",
      "        Key : Lower : Value : Upper : Fixed : Stale : Domain\n",
      "          1 :  None :    -1 :  None : False : False :  Reals\n",
      "          2 :  None :    -1 :  None : False : False :  Reals\n",
      "          3 :  None :    -1 :  None : False : False :  Reals\n",
      "          4 :  None :     0 :  None : False : False :  Reals\n",
      "          5 :  None :     0 :  None : False : False :  Reals\n",
      "          6 :  None :     0 :  None : False : False :  Reals\n",
      "\n",
      "  Objectives:\n",
      "    OBJ : Size=1, Index=None, Active=True\n",
      "        Key  : Active : Value\n",
      "        None :   True :  -530\n",
      "\n",
      "  Constraints:\n",
      "    AxbConstraint : Size=15\n",
      "        Key : Lower : Body  : Upper\n",
      "          1 :  None :    -1 :  -1.0\n",
      "          2 :  None : -0.75 : -0.75\n",
      "          3 :  None :    -5 :  -5.0\n",
      "          4 :  None :  -0.5 :  -0.5\n",
      "          5 :  None :  -0.5 :  -0.5\n",
      "          6 :  None :    -2 :  -2.0\n",
      "          7 :  None :  -0.5 :  -0.5\n",
      "          8 :  None :    -3 :  -3.0\n",
      "          9 :  None :    -1 :  -1.0\n",
      "         10 :  None :    -1 :   0.0\n",
      "         11 :  None :    -1 :   0.0\n",
      "         12 :  None :    -1 :   0.0\n",
      "         13 :  None :     0 :   0.0\n",
      "         14 :  None :     0 :   0.0\n",
      "         15 :  None :     0 :   0.0\n",
      "\n",
      "[    0.04] Applying Pyomo postprocessing actions\n",
      "[    0.04] Pyomo Finished\n"
     ]
    }
   ],
   "source": [
    "!pyomo solve 1st_assignement3_dual.py 1st_assignement3.dat --solver=glpk --summary --solver-suffix=dual"
   ]
  },
  {
   "cell_type": "code",
   "execution_count": 36,
   "metadata": {
    "collapsed": false
   },
   "outputs": [
    {
     "name": "stdout",
     "output_type": "stream",
     "text": [
      "# ==========================================================\r\n",
      "# = Solver Results                                         =\r\n",
      "# ==========================================================\r\n",
      "# ----------------------------------------------------------\r\n",
      "#   Problem Information\r\n",
      "# ----------------------------------------------------------\r\n",
      "Problem: \r\n",
      "- Lower bound: -530.0\r\n",
      "  Upper bound: -530.0\r\n",
      "  Number of objectives: 1\r\n",
      "  Number of constraints: 16\r\n",
      "  Number of variables: 7\r\n",
      "  Number of nonzeros: 25\r\n",
      "  Sense: maximize\r\n",
      "# ----------------------------------------------------------\r\n",
      "#   Solver Information\r\n",
      "# ----------------------------------------------------------\r\n",
      "Solver: \r\n",
      "- Status: ok\r\n",
      "  Termination condition: optimal\r\n",
      "  Error rc: 0\r\n",
      "  Time: 0.00365781784058\r\n",
      "# ----------------------------------------------------------\r\n",
      "#   Solution Information\r\n",
      "# ----------------------------------------------------------\r\n",
      "Solution: \r\n",
      "- number of solutions: 1\r\n",
      "  number of solutions displayed: 1\r\n",
      "- Gap: 0.0\r\n",
      "  Status: optimal\r\n",
      "  Message: None\r\n",
      "  Objective:\r\n",
      "    OBJ:\r\n",
      "      Value: -530\r\n",
      "  Variable:\r\n",
      "    y[1]:\r\n",
      "      Value: -1\r\n",
      "    y[2]:\r\n",
      "      Value: -1\r\n",
      "    y[3]:\r\n",
      "      Value: -1\r\n",
      "  Constraint:\r\n",
      "    AxbConstraint[14]:\r\n",
      "      Dual: 10\r\n",
      "    AxbConstraint[1]:\r\n",
      "      Dual: 150\r\n",
      "    AxbConstraint[3]:\r\n",
      "      Dual: 10\r\n",
      "    AxbConstraint[5]:\r\n",
      "      Dual: 20\r\n",
      "    AxbConstraint[6]:\r\n",
      "      Dual: 70\r\n",
      "    AxbConstraint[8]:\r\n",
      "      Dual: 60\r\n"
     ]
    }
   ],
   "source": [
    "!cat results.yml"
   ]
  },
  {
   "cell_type": "markdown",
   "metadata": {},
   "source": [
    "# Exercise 6\n",
    "The Strong Duality Theorem states that:\n",
    "\n",
    "If $x^*$ is the optimal solution of the primal minimization LP problem, and $y^*$ is the dual optimal solution of the corresponding dual maximization LP problem, then\n",
    "\n",
    "$$z^*_D = b^{\\top} y^* = c^{\\top} x^* = z^*_P $$\n",
    "\n",
    "Comparing the solutions in 3) and 5), check if the Strong Duality Theorem holds. What is the relationship between the sensitivities computed in 3) and the optimal value of the dual variables obtained in 5)?"
   ]
  },
  {
   "cell_type": "markdown",
   "metadata": {
    "collapsed": true
   },
   "source": [
    "The theorem holds, as both objective functions return -530.\n",
    "The sensitivity in 3 equals the optimal values for y in 5 thats the relationship"
   ]
  },
  {
   "cell_type": "markdown",
   "metadata": {},
   "source": [
    "# Exercise 7\n",
    "Imagine now that google is able to display simultaneously n company ads for each requested query (instead of only one). Moreover, assume that the specific order in which these ads are displayed is important. Indicate how the model in 1) would need to be modified to account for these facts. Also, indicate if any additional problem data will be necessary for this new setting."
   ]
  },
  {
   "cell_type": "markdown",
   "metadata": {
    "collapsed": true
   },
   "source": [
    "We can now show N advertisments. We go from Q*C decisions to Q*C*N decision.\n",
    "we now need to know what is the revenue if a company appears in the N position queries and budget constraints stays the same.\n",
    "If we set our X decisions as a vector, we get a vector with Q*C*N elements, being the first Q*C elements, the decision for N=1. (similar to points 1-6)\n",
    "This is a quite dummy way to implement it, as it does not have a if company A appears 1st, \n",
    "do not show it 2nd mechanism. buuuut thats as far as i can go linearly \n",
    "(unless que build a Q*C*N*(C^N) matrix, in which we have all possible combinations of N-1 \n",
    "previous advertised companies, and the expected revenues for each scenario)\n",
    "I think the Q*C*N scenario would do the trick, adding some heurisits on top of it, like, do not show \n",
    "the same company twice"
   ]
  },
  {
   "cell_type": "markdown",
   "metadata": {},
   "source": [
    "# IMPORTANT:\n",
    "\n",
    "Upload the formulations 1), 2), 4) and 7) as well as the answers to the different questions in a pdf file (generated with MSWord, latex or similar) and the codes for 3) and 5) as separated .py and .dat files.\n",
    "\n",
    "This assignment can be done individually or in groups (up to 4 components). Groups must be the same for all the assignments. Files need to be uploaded by only one member of the group. Do not forget to indicate in the pdf file all the group’s components."
   ]
  },
  {
   "cell_type": "code",
   "execution_count": null,
   "metadata": {
    "collapsed": true
   },
   "outputs": [],
   "source": []
  }
 ],
 "metadata": {
  "anaconda-cloud": {},
  "kernelspec": {
   "display_name": "Python [default]",
   "language": "python",
   "name": "python2"
  },
  "language_info": {
   "codemirror_mode": {
    "name": "ipython",
    "version": 2
   },
   "file_extension": ".py",
   "mimetype": "text/x-python",
   "name": "python",
   "nbconvert_exporter": "python",
   "pygments_lexer": "ipython2",
   "version": "2.7.12"
  }
 },
 "nbformat": 4,
 "nbformat_minor": 0
}
