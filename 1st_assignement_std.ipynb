{
 "cells": [
  {
   "cell_type": "markdown",
   "metadata": {},
   "source": [
    "# Exercise 1\n",
    "Obtain the general formulation for the Google Adwords problem (described within slides 23-26 of the Linear Programming topic)."
   ]
  },
  {
   "cell_type": "markdown",
   "metadata": {},
   "source": [
    "**Data:**\n",
    "\n",
    "$a_i = $ maximum budget for company\n",
    "\n",
    "$b_j = $ maximum of expected request for query\n",
    "\n",
    "$R_{ij} = $ price per add/click\n",
    "\n",
    "**Variables:**\n",
    "\n",
    "$x_{ij} = $ Number of adds assigned per query and company\n",
    "\n",
    "$$\\max_{x_{ij}} \\quad \\sum_{i=1}^n \\sum_{j=1}^m R_{ij} x_{ij}$$\n",
    "\n",
    "$$s.t. \\quad \\sum_{i=1}^n x_{ij} \\leq b_j \\quad \\forall \\, j$$\n",
    "$$\\sum_{j=1}^m R_{ij} x_{ij} \\leq a_i \\quad \\forall \\, i$$\n",
    "$$x_{ij} \\geq 0 \\quad \\forall \\, i,j$$"
   ]
  },
  {
   "cell_type": "markdown",
   "metadata": {},
   "source": [
    "# Exercise 2\n",
    "Obtain its equivalent standard form.\n",
    "\n",
    "$$ \\max_x \\quad z = R^{\\top}x $$\n",
    "$$s.t. \\quad Ax = b $$\n",
    "$$x \\geq 0 $$\n",
    "\n",
    "where $x \\in {\\rm I\\!R}^n, R \\in {\\rm I\\!R}^n, A \\in {\\rm I\\!R}^{m\\times n}$ and $ b \\in {\\rm I\\!R}^m$\n",
    "\n",
    "$$R=(1,0.75,5,0.5,0.5,2,0.5,3,1,0,0,0,0,0,0)^\\top$$\n",
    "$$x=(x_{A1}, x_{A2}, x_{A3},x_{B1}, x_{B2}, x_{B3},x_{C1}, x_{C2}, x_{C3}, z_1, z_2,z_3,z_4,z_5,z_6 )$$\n",
    "\n",
    "$$x_{A1} + 0.75 x_{A2} + 5 x_{A3} +z_1 = 200 $$\n",
    "$$0.5x_{B1} + 0.5 x_{B2} + 2 x_{B3} +z_2 = 150 $$\n",
    "$$0.5x_{C1} + 3 x_{C2} + x_{C3} +z_3 = 180 $$\n",
    "$$x_{A1}+x_{B1}+x_{C1}+z_4=150$$\n",
    "$$x_{A2}+x_{B2}+x_{C2}+z_5=90$$\n",
    "$$x_{A3}+x_{B3}+x_{C3}+z_6=80$$\n",
    "\n",
    "$$\n",
    "A =\\left| \\begin{array}{ccccccccccccccc}\n",
    "1 & 0.75 & 5 & 0 & 0 & 0 & 0 & 0 & 0 & 1 & 0 &0 & 0 & 0 & 0 \\\\\n",
    "0 & 0 & 0 & 0.5 & 0.5 & 2 & 0 & 0 & 0 & 0 & 1 &0 & 0 & 0 & 0 \\\\\n",
    "0 & 0 & 0 & 0 & 0 & 0 & 0.5 & 3 & 1 & 0 & 0 & 1 & 0 & 0 & 0 \\\\\n",
    "1 & 0 & 0 & 1 & 0 & 0 & 1 & 0 & 0 & 0 & 0 &0 & 1 & 0 & 0 \\\\\n",
    "0 & 1 & 0 & 0 & 1 & 0 & 0 & 1 & 0 & 0 & 0 &0 & 0 & 1 & 0 \\\\\n",
    "0 & 0 & 1 & 0 & 0 & 1 & 0 & 0 & 1 & 0 & 0 &0 & 0 & 0 & 1 \\\\\n",
    "\\end{array} \\right|\n",
    "$$"
   ]
  },
  {
   "cell_type": "markdown",
   "metadata": {},
   "source": [
    "# Exercise 3\n",
    "Implement the model derived in 2) in Pyomo and solve it for the case of 10 companies and 10 queries (make up the data to be reasonable). Compute the sensitivities associated to each constraint. Report the results."
   ]
  },
  {
   "cell_type": "code",
   "execution_count": 16,
   "metadata": {
    "collapsed": false
   },
   "outputs": [
    {
     "name": "stdout",
     "output_type": "stream",
     "text": [
      "Overwriting 1st_assignement3.py\n"
     ]
    }
   ],
   "source": [
    "%%writefile 1st_assignement3.py\n",
    "\n",
    "#structure of the code from https://github.com/Pyomo/PyomoGettingStarted/blob/master/01_PyomoOverview.ipynb\n",
    "\n",
    "from __future__ import division \n",
    "from pyomo.environ import *\n",
    "\n",
    "model = AbstractModel()\n",
    "\n",
    "model.m = Param(within=NonNegativeIntegers) # Number of queries\n",
    "model.n = Param(within=NonNegativeIntegers) # Number of companies\n",
    "\n",
    "model.Ia = RangeSet(1, model.m+model.n)\n",
    "model.Ja = RangeSet(1, (model.m*model.n) + (model.m+model.n))\n",
    "model.I = RangeSet(1,model.n)\n",
    "model.J = RangeSet(1,model.m)\n",
    "\n",
    "model.a = Param(model.Ia, model.Ja)\n",
    "model.b=Param(model.Ia) #Budget\n",
    "model.r = Param(model.Ja)\n",
    "\n",
    "model.x = Var(model.Ja, domain=NonNegativeReals)\n",
    "\n",
    "def obj_expression(model):\n",
    "    return summation(model.r, model.x)\n",
    "\n",
    "#std form - minimize\n",
    "model.OBJ = Objective(rule=obj_expression)\n",
    "\n",
    "\n",
    "def ax_constraint_rule(model, i):\n",
    "    # return the expression for the constraint for i\n",
    "    return sum(model.a[i,j] * model.x[j] for j in model.Ja) == model.b[i]\n",
    "\n",
    "# the next line creates one constraint for each member of the set model.I\n",
    "model.AxbConstraint = Constraint(model.Ia, rule=ax_constraint_rule)\n"
   ]
  },
  {
   "cell_type": "code",
   "execution_count": 17,
   "metadata": {
    "collapsed": false
   },
   "outputs": [
    {
     "name": "stdout",
     "output_type": "stream",
     "text": [
      "Overwriting 1st_assignement3.dat\n"
     ]
    }
   ],
   "source": [
    "%%writefile 1st_assignement3.dat\n",
    "\n",
    "\n",
    "param n :=3; #Companies\n",
    "param m :=3; #Queries\n",
    "    \n",
    "param r := #revenue - as negative for the std form\n",
    "    1 -1\n",
    "    2 -0.75\n",
    "    3 -5\n",
    "    4 -0.5\n",
    "    5 -0.5\n",
    "    6 -2\n",
    "    7 -0.5 \n",
    "    8 -3\n",
    "    9 -1\n",
    "    10 0\n",
    "    11 0\n",
    "    12 0\n",
    "    13 0\n",
    "    14 0\n",
    "    15 0\n",
    "    ;\n",
    "       \n",
    "param b:=\n",
    "    1 200\n",
    "    2 150\n",
    "    3 180\n",
    "    4 150\n",
    "    5 90\n",
    "    6 80\n",
    "    ;\n",
    "\n",
    "param a: 1 2 3 4 5 6 7 8 9 10 11 12 13 14 15 :=\n",
    "1 1 0.75 5 0 0 0 0 0 0 1 0 0 0 0 0\n",
    "2 0 0 0 0.5 0.5 2 0 0 0 0 1 0 0 0 0\n",
    "3 0 0 0 0 0 0 0.5 3 1 0 0 1 0 0 0\n",
    "4 1 0 0 1 0 0 1 0 0 0 0 0 1 0 0\n",
    "5 0 1 0 0 1 0 0 1 0 0 0 0 0 1 0\n",
    "6 0 0 1 0 0 1 0 0 1 0 0 0 0 0 1\n",
    ";"
   ]
  },
  {
   "cell_type": "code",
   "execution_count": 18,
   "metadata": {
    "collapsed": false
   },
   "outputs": [
    {
     "name": "stdout",
     "output_type": "stream",
     "text": [
      "[    0.00] Setting up Pyomo environment\n",
      "[    0.00] Applying Pyomo preprocessing actions\n",
      "[    0.00] Creating model\n",
      "[    0.02] Applying solver\n",
      "[    0.03] Processing results\n",
      "    Number of solutions: 1\n",
      "    Solution Information\n",
      "      Gap: 0.0\n",
      "      Status: optimal\n",
      "      Function Value: -530.0\n",
      "    Solver results file: results.yml\n",
      "\n",
      "==========================================================\n",
      "Solution Summary\n",
      "==========================================================\n",
      "\n",
      "Model unknown\n",
      "\n",
      "  Variables:\n",
      "    x : Size=15, Index=Ja\n",
      "        Key : Lower : Value : Upper : Fixed : Stale : Domain\n",
      "          1 :     0 :     0 :  None : False : False : NonNegativeReals\n",
      "          2 :     0 :     0 :  None : False : False : NonNegativeReals\n",
      "          3 :     0 :    40 :  None : False : False : NonNegativeReals\n",
      "          4 :     0 :   110 :  None : False : False : NonNegativeReals\n",
      "          5 :     0 :    30 :  None : False : False : NonNegativeReals\n",
      "          6 :     0 :    40 :  None : False : False : NonNegativeReals\n",
      "          7 :     0 :     0 :  None : False : False : NonNegativeReals\n",
      "          8 :     0 :    60 :  None : False : False : NonNegativeReals\n",
      "          9 :     0 :     0 :  None : False : False : NonNegativeReals\n",
      "         10 :     0 :     0 :  None : False : False : NonNegativeReals\n",
      "         11 :     0 :     0 :  None : False : False : NonNegativeReals\n",
      "         12 :     0 :     0 :  None : False : False : NonNegativeReals\n",
      "         13 :     0 :    40 :  None : False : False : NonNegativeReals\n",
      "         14 :     0 :     0 :  None : False : False : NonNegativeReals\n",
      "         15 :     0 :     0 :  None : False : False : NonNegativeReals\n",
      "\n",
      "  Objectives:\n",
      "    OBJ : Size=1, Index=None, Active=True\n",
      "        Key  : Active : Value\n",
      "        None :   True : -530.0\n",
      "\n",
      "  Constraints:\n",
      "    AxbConstraint : Size=6\n",
      "        Key : Lower : Body  : Upper\n",
      "          1 : 200.0 : 200.0 : 200.0\n",
      "          2 : 150.0 : 150.0 : 150.0\n",
      "          3 : 180.0 : 180.0 : 180.0\n",
      "          4 : 150.0 :   150 : 150.0\n",
      "          5 :  90.0 :    90 :  90.0\n",
      "          6 :  80.0 :    80 :  80.0\n",
      "\n",
      "[    0.04] Applying Pyomo postprocessing actions\n",
      "[    0.04] Pyomo Finished\n"
     ]
    }
   ],
   "source": [
    "!pyomo solve 1st_assignement3.py 1st_assignement3.dat --solver=glpk --summary --solver-suffix=dual"
   ]
  },
  {
   "cell_type": "code",
   "execution_count": 19,
   "metadata": {
    "collapsed": false
   },
   "outputs": [
    {
     "name": "stdout",
     "output_type": "stream",
     "text": [
      "# ==========================================================\r\n",
      "# = Solver Results                                         =\r\n",
      "# ==========================================================\r\n",
      "# ----------------------------------------------------------\r\n",
      "#   Problem Information\r\n",
      "# ----------------------------------------------------------\r\n",
      "Problem: \r\n",
      "- Lower bound: -530.0\r\n",
      "  Upper bound: -530.0\r\n",
      "  Number of objectives: 1\r\n",
      "  Number of constraints: 7\r\n",
      "  Number of variables: 16\r\n",
      "  Number of nonzeros: 25\r\n",
      "  Sense: minimize\r\n",
      "# ----------------------------------------------------------\r\n",
      "#   Solver Information\r\n",
      "# ----------------------------------------------------------\r\n",
      "Solver: \r\n",
      "- Status: ok\r\n",
      "  Termination condition: optimal\r\n",
      "  Error rc: 0\r\n",
      "  Time: 0.00371503829956\r\n",
      "# ----------------------------------------------------------\r\n",
      "#   Solution Information\r\n",
      "# ----------------------------------------------------------\r\n",
      "Solution: \r\n",
      "- number of solutions: 1\r\n",
      "  number of solutions displayed: 1\r\n",
      "- Gap: 0.0\r\n",
      "  Status: optimal\r\n",
      "  Message: None\r\n",
      "  Objective:\r\n",
      "    OBJ:\r\n",
      "      Value: -530\r\n",
      "  Variable:\r\n",
      "    x[13]:\r\n",
      "      Value: 40\r\n",
      "    x[3]:\r\n",
      "      Value: 40\r\n",
      "    x[4]:\r\n",
      "      Value: 110\r\n",
      "    x[5]:\r\n",
      "      Value: 30\r\n",
      "    x[6]:\r\n",
      "      Value: 40\r\n",
      "    x[8]:\r\n",
      "      Value: 60\r\n",
      "  Constraint:\r\n",
      "    AxbConstraint[1]:\r\n",
      "      Dual: -1\r\n",
      "    AxbConstraint[2]:\r\n",
      "      Dual: -1\r\n",
      "    AxbConstraint[3]:\r\n",
      "      Dual: -1\r\n"
     ]
    }
   ],
   "source": [
    "!cat results.yml"
   ]
  },
  {
   "cell_type": "code",
   "execution_count": 11,
   "metadata": {
    "collapsed": false
   },
   "outputs": [
    {
     "name": "stdout",
     "output_type": "stream",
     "text": [
      "Overwriting 1st_assignement3_dual.py\n"
     ]
    }
   ],
   "source": [
    "%%writefile 1st_assignement3_dual.py\n",
    "\n",
    "from __future__ import division \n",
    "from pyomo.environ import *\n",
    "\n",
    "model = AbstractModel()\n",
    "\n",
    "model.m = Param(within=NonNegativeIntegers)\n",
    "model.n = Param(within=NonNegativeIntegers)\n",
    "\n",
    "model.Ia = RangeSet(1, model.m+model.n)\n",
    "model.Ja = RangeSet(1, model.m*model.n)\n",
    "\n",
    "model.a = Param(model.Ia, model.Ja)\n",
    "model.b = Param(model.Ia)\n",
    "model.r = Param(model.Ja)\n",
    "\n",
    "# the next line declares a variable indexed by the set J\n",
    "model.y = Var(model.Ia, domain=Reals)\n",
    "\n",
    "#maximize\n",
    "def obj_expression(model):\n",
    "    return summation(model.b, model.y)\n",
    "\n",
    "model.OBJ = Objective(rule=obj_expression)\n",
    "\n",
    "#we need to do At*y, but changing the indexes to \n",
    "#access the matrix does the trick\n",
    "def ax_constraint_rule(model, j):\n",
    "    # return the expression for the constraint for i\n",
    "    return sum(model.a[i,j] * model.y[i] for i in model.Ia) >= model.r[j]\n",
    "\n",
    "# the next line creates one constraint for each member of the set model.I\n",
    "model.AxbConstraint = Constraint(model.Ja, rule=ax_constraint_rule)"
   ]
  },
  {
   "cell_type": "code",
   "execution_count": 12,
   "metadata": {
    "collapsed": false
   },
   "outputs": [
    {
     "name": "stdout",
     "output_type": "stream",
     "text": [
      "[    0.00] Setting up Pyomo environment\n",
      "[    0.00] Applying Pyomo preprocessing actions\n",
      "[    0.00] Creating model\n",
      "[    0.02] Applying solver\n",
      "[    0.03] Processing results\n",
      "    Number of solutions: 1\n",
      "    Solution Information\n",
      "      Gap: 0.0\n",
      "      Status: optimal\n",
      "      Function Value: -530\n",
      "    Solver results file: results.yml\n",
      "\n",
      "==========================================================\n",
      "Solution Summary\n",
      "==========================================================\n",
      "\n",
      "Model unknown\n",
      "\n",
      "  Variables:\n",
      "    y : Size=6, Index=Ia\n",
      "        Key : Lower : Value : Upper : Fixed : Stale : Domain\n",
      "          1 :  None :    -1 :  None : False : False :  Reals\n",
      "          2 :  None :    -1 :  None : False : False :  Reals\n",
      "          3 :  None :    -1 :  None : False : False :  Reals\n",
      "          4 :  None :     0 :  None : False : False :  Reals\n",
      "          5 :  None :     0 :  None : False : False :  Reals\n",
      "          6 :  None :     0 :  None : False : False :  Reals\n",
      "\n",
      "  Objectives:\n",
      "    OBJ : Size=1, Index=None, Active=True\n",
      "        Key  : Active : Value\n",
      "        None :   True :  -530\n",
      "\n",
      "  Constraints:\n",
      "    AxbConstraint : Size=9\n",
      "        Key : Lower : Body  : Upper\n",
      "          1 :  -1.0 :    -1 :  None\n",
      "          2 : -0.75 : -0.75 :  None\n",
      "          3 :  -5.0 :    -5 :  None\n",
      "          4 :  -0.5 :  -0.5 :  None\n",
      "          5 :  -0.5 :  -0.5 :  None\n",
      "          6 :  -2.0 :    -2 :  None\n",
      "          7 :  -0.5 :  -0.5 :  None\n",
      "          8 :  -3.0 :    -3 :  None\n",
      "          9 :  -1.0 :    -1 :  None\n",
      "\n",
      "[    0.03] Applying Pyomo postprocessing actions\n",
      "[    0.03] Pyomo Finished\n"
     ]
    }
   ],
   "source": [
    "!pyomo solve 1st_assignement3_dual.py 1st_assignement3.dat --solver=glpk --summary --solver-suffix=dual"
   ]
  },
  {
   "cell_type": "markdown",
   "metadata": {},
   "source": [
    "# Exercise 4\n",
    "Given a linear programming problem in standard form:\n",
    "$$\\min_{x} \\quad z_P = c^{\\top} x $$ \n",
    "$$s.t. \\quad Ax = b $$\n",
    "$$x \\geq 0 $$\n",
    "we can define its dual problem as \n",
    "$$\\max_{y} \\quad z_D = b^{\\top} y $$\n",
    "$$s.t. \\quad A^{\\top}y\\geq c $$\n",
    "where $y$ is called teh dual variable vector.\n",
    "\n",
    "Considering this, formulate the dual problem associated to the model derived in 2) (check slide 60 of the Linear Programming topic for an example of this transformation)."
   ]
  },
  {
   "cell_type": "markdown",
   "metadata": {},
   "source": [
    "# Exercise 5\n",
    "Implement the dual model derived in 4) in Pyomo and solve it for the same data in 3). Report the results."
   ]
  },
  {
   "cell_type": "code",
   "execution_count": null,
   "metadata": {
    "collapsed": true
   },
   "outputs": [],
   "source": []
  },
  {
   "cell_type": "code",
   "execution_count": null,
   "metadata": {
    "collapsed": true
   },
   "outputs": [],
   "source": []
  },
  {
   "cell_type": "markdown",
   "metadata": {},
   "source": [
    "# Exercise 6\n",
    "The Strong Duality Theorem states that:\n",
    "\n",
    "If $x^*$ is the optimal solution of the primal minimization LP problem, and $y^*$ is the dual optimal solution of the corresponding dual maximization LP problem, then\n",
    "\n",
    "$$z^*_D = b^{\\top} y^* = c^{\\top} x^* = z^*_P $$\n",
    "\n",
    "Comparing the solutions in 3) and 5), check if the Strong Duality Theorem holds. What is the relationship between the sensitivities computed in 3) and the optimal value of the dual variables obtained in 5)?"
   ]
  },
  {
   "cell_type": "markdown",
   "metadata": {},
   "source": [
    "# Exercise 7\n",
    "Imagine now that google is able to display simultaneously n company ads for each requested query (instead of only one). Moreover, assume that the specific order in which these ads are displayed is important. Indicate how the model in 1) would need to be modified to account for these facts. Also, indicate if any additional problem data will be necessary for this new setting."
   ]
  },
  {
   "cell_type": "markdown",
   "metadata": {},
   "source": [
    "# IMPORTANT:\n",
    "\n",
    "Upload the formulations 1), 2), 4) and 7) as well as the answers to the different questions in a pdf file (generated with MSWord, latex or similar) and the codes for 3) and 5) as separated .py and .dat files.\n",
    "\n",
    "This assignment can be done individually or in groups (up to 4 components). Groups must be the same for all the assignments. Files need to be uploaded by only one member of the group. Do not forget to indicate in the pdf file all the group’s components."
   ]
  },
  {
   "cell_type": "code",
   "execution_count": null,
   "metadata": {
    "collapsed": true
   },
   "outputs": [],
   "source": []
  }
 ],
 "metadata": {
  "anaconda-cloud": {},
  "kernelspec": {
   "display_name": "Python [default]",
   "language": "python",
   "name": "python2"
  },
  "language_info": {
   "codemirror_mode": {
    "name": "ipython",
    "version": 2
   },
   "file_extension": ".py",
   "mimetype": "text/x-python",
   "name": "python",
   "nbconvert_exporter": "python",
   "pygments_lexer": "ipython2",
   "version": "2.7.12"
  }
 },
 "nbformat": 4,
 "nbformat_minor": 0
}
