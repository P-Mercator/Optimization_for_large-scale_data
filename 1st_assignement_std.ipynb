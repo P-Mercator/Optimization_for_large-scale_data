{
 "cells": [
  {
   "cell_type": "markdown",
   "metadata": {},
   "source": [
    "# Exercise 1\n",
    "Obtain the general formulation for the Google Adwords problem (described within slides 23-26 of the Linear Programming topic)."
   ]
  },
  {
   "cell_type": "markdown",
   "metadata": {},
   "source": [
    "**Data:**\n",
    "\n",
    "$a_i = $ maximum budget for company\n",
    "\n",
    "$b_j = $ maximum of expected request for query\n",
    "\n",
    "$c_{ij} = $ price per add/click\n",
    "\n",
    "**Variables:**\n",
    "\n",
    "$x_{ij} = $ Number of adds assigned per query and company\n",
    "\n",
    "$$\\max_{x_{ij}} \\quad \\sum_{i=1}^n \\sum_{j=1}^m c_{ij} x_{ij}$$\n",
    "\n",
    "$$s.t. \\quad \\sum_{i=1}^n x_{ij} \\leq b_j \\quad \\forall j$$\n",
    "$$\\sum_{j=1}^m c_{ij} x_{ij} \\leq a_i \\quad \\forall i$$\n",
    "$$x_{ij} \\geq 0 \\quad ij$$"
   ]
  },
  {
   "cell_type": "markdown",
   "metadata": {},
   "source": [
    "# Exercise 2\n",
    "Obtain its equivalent standard form.\n",
    "\n",
    "$$ \\max_x \\quad z = c^{\\top}x $$\n",
    "$$s.t. \\quad Ax = b $$\n",
    "$$x \\geq =0 $$\n",
    "\n",
    "where $x \\in {\\rm I\\!R}^n, c \\in {\\rm I\\!R}^n, A \\in {\\rm I\\!R}^{m\\times n}, and b \\in {\\rm I\\!R}^m$\n"
   ]
  },
  {
   "cell_type": "markdown",
   "metadata": {},
   "source": [
    "# Exercise 3\n",
    "Implement the model derived in 2) in Pyomo and solve it for the case of 10 companies and 10 queries (make up the data to be reasonable). Compute the sensitivities associated to each constraint. Report the results."
   ]
  },
  {
   "cell_type": "code",
   "execution_count": 13,
   "metadata": {
    "collapsed": false
   },
   "outputs": [
    {
     "name": "stdout",
     "output_type": "stream",
     "text": [
      "Overwriting 1st_assignement3.py\n"
     ]
    }
   ],
   "source": [
    "%%writefile 1st_assignement3.py\n",
    "\n",
    "#structure of the code from https://github.com/Pyomo/PyomoGettingStarted/blob/master/01_PyomoOverview.ipynb\n",
    "\n",
    "from __future__ import division \n",
    "from pyomo.environ import *\n",
    "\n",
    "model = AbstractModel()\n",
    "\n",
    "model.m = Param(within=NonNegativeIntegers)\n",
    "model.n = Param(within=NonNegativeIntegers)\n",
    "\n",
    "model.Ia = RangeSet(1, model.m+model.n)\n",
    "model.Ja = RangeSet(1, model.m*model.n)\n",
    "\n",
    "model.a = Param(model.Ia, model.Ja)\n",
    "model.ba = Param(model.Ia)\n",
    "model.ca = Param(model.Ja)\n",
    "\n",
    "# the next line declares a variable indexed by the set J\n",
    "model.x = Var(model.Ja, domain=NonNegativeReals)\n",
    "\n",
    "def obj_expression(model):\n",
    "    return summation(model.ca, model.x)\n",
    "\n",
    "#std form - minimize\n",
    "model.OBJ = Objective(rule=obj_expression)\n",
    "\n",
    "def ax_constraint_rule(model, i):\n",
    "    # return the expression for the constraint for i\n",
    "    return sum(model.a[i,j] * model.x[j] for j in model.Ja) == model.ba[i]\n",
    "\n",
    "# the next line creates one constraint for each member of the set model.I\n",
    "model.AxbConstraint = Constraint(model.Ia, rule=ax_constraint_rule)\n"
   ]
  },
  {
   "cell_type": "code",
   "execution_count": 14,
   "metadata": {
    "collapsed": false
   },
   "outputs": [
    {
     "name": "stdout",
     "output_type": "stream",
     "text": [
      "Overwriting 1st_assignement3.dat\n"
     ]
    }
   ],
   "source": [
    "%%writefile 1st_assignement3.dat\n",
    "\n",
    "\n",
    "param n :=3; #Companies\n",
    "param m :=3; #Queries\n",
    "    \n",
    "param ca := #revenue - as negative for the std form\n",
    "    1 -1\n",
    "    2 -0.75\n",
    "    3 -5\n",
    "    4 -0.5\n",
    "    5 -0.5\n",
    "    6 -2\n",
    "    7 -0.5 \n",
    "    8 -3\n",
    "    9 -1\n",
    "    ;\n",
    "       \n",
    "param ba:=\n",
    "    1 200\n",
    "    2 150\n",
    "    3 180\n",
    "    4 150\n",
    "    5 90\n",
    "    6 80\n",
    "    ;\n",
    "\n",
    "param a: 1 2 3 4 5 6 7 8 9 :=\n",
    "1 1 0.75 5 0 0 0 0 0 0\n",
    "2 0 0 0 0.5 0.5 2 0 0 0\n",
    "3 0 0 0 0 0 0 0.5 3 1\n",
    "4 1 0 0 1 0 0 1 0 0\n",
    "5 0 1 0 0 1 0 0 1 0\n",
    "6 0 0 1 0 0 1 0 0 1\n",
    ";"
   ]
  },
  {
   "cell_type": "code",
   "execution_count": 15,
   "metadata": {
    "collapsed": false
   },
   "outputs": [
    {
     "name": "stdout",
     "output_type": "stream",
     "text": [
      "[    0.00] Setting up Pyomo environment\n",
      "[    0.00] Applying Pyomo preprocessing actions\n",
      "[    0.01] Creating model\n",
      "[    0.03] Applying solver\n",
      "[    0.06] Processing results\n",
      "    Number of solutions: 1\n",
      "    Solution Information\n",
      "      Gap: 0.0\n",
      "      Status: feasible\n",
      "      Function Value: -530.0\n",
      "    Solver results file: results.yml\n",
      "\n",
      "==========================================================\n",
      "Solution Summary\n",
      "==========================================================\n",
      "\n",
      "Model unknown\n",
      "\n",
      "  Variables:\n",
      "    x : Size=9, Index=Ja\n",
      "        Key : Lower : Value         : Upper : Fixed : Stale : Domain\n",
      "          1 :     0 :           0.0 :  None : False : False : NonNegativeReals\n",
      "          2 :     0 : 35.1851851852 :  None : False : False : NonNegativeReals\n",
      "          3 :     0 : 34.7222222222 :  None : False : False : NonNegativeReals\n",
      "          4 :     0 : 118.888888889 :  None : False : False : NonNegativeReals\n",
      "          5 :     0 :           0.0 :  None : False : False : NonNegativeReals\n",
      "          6 :     0 : 45.2777777778 :  None : False : False : NonNegativeReals\n",
      "          7 :     0 : 31.1111111111 :  None : False : False : NonNegativeReals\n",
      "          8 :     0 : 54.8148148148 :  None : False : False : NonNegativeReals\n",
      "          9 :     0 :           0.0 :  None : False : False : NonNegativeReals\n",
      "\n",
      "  Objectives:\n",
      "    OBJ : Size=1, Index=None, Active=True\n",
      "        Key  : Active : Value\n",
      "        None :   True : -530.0\n",
      "\n",
      "  Constraints:\n",
      "    AxbConstraint : Size=6\n",
      "        Key : Lower : Body  : Upper\n",
      "          1 : 200.0 : 200.0 : 200.0\n",
      "          2 : 150.0 : 150.0 : 150.0\n",
      "          3 : 180.0 : 180.0 : 180.0\n",
      "          4 : 150.0 : 150.0 : 150.0\n",
      "          5 :  90.0 :  90.0 :  90.0\n",
      "          6 :  80.0 :  80.0 :  80.0\n",
      "\n",
      "[    0.07] Applying Pyomo postprocessing actions\n",
      "[    0.07] Pyomo Finished\n"
     ]
    }
   ],
   "source": [
    "!pyomo solve 1st_assignement3.py 1st_assignement3.dat --solver=glpk --summary --solver-suffix=dual"
   ]
  },
  {
   "cell_type": "code",
   "execution_count": 16,
   "metadata": {
    "collapsed": false
   },
   "outputs": [
    {
     "name": "stdout",
     "output_type": "stream",
     "text": [
      "# ==========================================================\n",
      "# = Solver Results                                         =\n",
      "# ==========================================================\n",
      "# ----------------------------------------------------------\n",
      "#   Problem Information\n",
      "# ----------------------------------------------------------\n",
      "Problem: \n",
      "- Name: unknown\n",
      "  Lower bound: -530.0\n",
      "  Upper bound: -530.0\n",
      "  Number of objectives: 1\n",
      "  Number of constraints: 7\n",
      "  Number of variables: 10\n",
      "  Number of nonzeros: 19\n",
      "  Sense: minimize\n",
      "# ----------------------------------------------------------\n",
      "#   Solver Information\n",
      "# ----------------------------------------------------------\n",
      "Solver: \n",
      "- Status: ok\n",
      "  Termination condition: optimal\n",
      "  Statistics: \n",
      "    Branch and bound: \n",
      "      Number of bounded subproblems: 0\n",
      "      Number of created subproblems: 0\n",
      "  Error rc: 0\n",
      "  Time: 0.0200002193451\n",
      "# ----------------------------------------------------------\n",
      "#   Solution Information\n",
      "# ----------------------------------------------------------\n",
      "Solution: \n",
      "- number of solutions: 1\n",
      "  number of solutions displayed: 1\n",
      "- Gap: 0.0\n",
      "  Status: feasible\n",
      "  Message: None\n",
      "  Objective:\n",
      "    OBJ:\n",
      "      Value: -530\n",
      "  Variable:\n",
      "    x[2]:\n",
      "      Value: 35.1851851852\n",
      "    x[3]:\n",
      "      Value: 34.7222222222\n",
      "    x[4]:\n",
      "      Value: 118.888888889\n",
      "    x[6]:\n",
      "      Value: 45.2777777778\n",
      "    x[7]:\n",
      "      Value: 31.1111111111\n",
      "    x[8]:\n",
      "      Value: 54.8148148148\n",
      "  Constraint:\n",
      "    AxbConstraint[1]:\n",
      "      Dual: -1\n",
      "    AxbConstraint[2]:\n",
      "      Dual: -1\n",
      "    AxbConstraint[3]:\n",
      "      Dual: -1\n"
     ]
    }
   ],
   "source": [
    "!type results.yml"
   ]
  },
  {
   "cell_type": "code",
   "execution_count": 37,
   "metadata": {
    "collapsed": false
   },
   "outputs": [
    {
     "name": "stdout",
     "output_type": "stream",
     "text": [
      "Overwriting 1st_assignement3_dual.py\n"
     ]
    }
   ],
   "source": [
    "%%writefile 1st_assignement3_dual.py\n",
    "\n",
    "from __future__ import division \n",
    "from pyomo.environ import *\n",
    "\n",
    "model = AbstractModel()\n",
    "\n",
    "model.m = Param(within=NonNegativeIntegers)\n",
    "model.n = Param(within=NonNegativeIntegers)\n",
    "\n",
    "model.Ia = RangeSet(1, model.m+model.n)\n",
    "model.Ja = RangeSet(1, model.m*model.n)\n",
    "\n",
    "model.a = Param(model.Ia, model.Ja)\n",
    "model.ba = Param(model.Ia)\n",
    "model.ca = Param(model.Ja)\n",
    "\n",
    "# the next line declares a variable indexed by the set J\n",
    "model.y = Var(model.Ia, domain=Reals)\n",
    "\n",
    "#maximize\n",
    "def obj_expression(model):\n",
    "    return summation(model.ba, model.y)\n",
    "\n",
    "model.OBJ = Objective(rule=obj_expression)\n",
    "\n",
    "#we need to do At*y, but changing the indexes to \n",
    "#access the matrix does the trick\n",
    "def ax_constraint_rule(model, j):\n",
    "    # return the expression for the constraint for i\n",
    "    return sum(model.a[i,j] * model.y[i] for i in model.Ia) >= model.ca[j]\n",
    "\n",
    "# the next line creates one constraint for each member of the set model.I\n",
    "model.AxbConstraint = Constraint(model.Ja, rule=ax_constraint_rule)"
   ]
  },
  {
   "cell_type": "code",
   "execution_count": 38,
   "metadata": {
    "collapsed": false
   },
   "outputs": [
    {
     "name": "stdout",
     "output_type": "stream",
     "text": [
      "[    0.00] Setting up Pyomo environment\n",
      "[    0.00] Applying Pyomo preprocessing actions\n",
      "[    0.00] Creating model\n",
      "[    0.02] Applying solver\n",
      "[    0.05] Processing results\n",
      "    Number of solutions: 1\n",
      "    Solution Information\n",
      "      Gap: 0.0\n",
      "      Status: feasible\n",
      "      Function Value: -530.0\n",
      "    Solver results file: results.yml\n",
      "\n",
      "==========================================================\n",
      "Solution Summary\n",
      "==========================================================\n",
      "\n",
      "Model unknown\n",
      "\n",
      "  Variables:\n",
      "    y : Size=6, Index=Ia\n",
      "        Key : Lower : Value : Upper : Fixed : Stale : Domain\n",
      "          1 :  None :  -1.0 :  None : False : False :  Reals\n",
      "          2 :  None :  -1.0 :  None : False : False :  Reals\n",
      "          3 :  None :  -1.0 :  None : False : False :  Reals\n",
      "          4 :  None :   0.0 :  None : False : False :  Reals\n",
      "          5 :  None :   0.0 :  None : False : False :  Reals\n",
      "          6 :  None :   0.0 :  None : False : False :  Reals\n",
      "\n",
      "  Objectives:\n",
      "    OBJ : Size=1, Index=None, Active=True\n",
      "        Key  : Active : Value\n",
      "        None :   True : -530.0\n",
      "\n",
      "  Constraints:\n",
      "    AxbConstraint : Size=9\n",
      "        Key : Lower : Body  : Upper\n",
      "          1 :  -1.0 :  -1.0 :  None\n",
      "          2 : -0.75 : -0.75 :  None\n",
      "          3 :  -5.0 :  -5.0 :  None\n",
      "          4 :  -0.5 :  -0.5 :  None\n",
      "          5 :  -0.5 :  -0.5 :  None\n",
      "          6 :  -2.0 :  -2.0 :  None\n",
      "          7 :  -0.5 :  -0.5 :  None\n",
      "          8 :  -3.0 :  -3.0 :  None\n",
      "          9 :  -1.0 :  -1.0 :  None\n",
      "\n",
      "[    0.06] Applying Pyomo postprocessing actions\n",
      "[    0.06] Pyomo Finished\n"
     ]
    }
   ],
   "source": [
    "!pyomo solve 1st_assignement3_dual.py 1st_assignement3.dat --solver=glpk --summary --solver-suffix=dual"
   ]
  },
  {
   "cell_type": "markdown",
   "metadata": {},
   "source": [
    "# Exercise 4\n",
    "Given a linear programming problem in standard form:\n",
    "$$\\min_{x} \\quad z_P = c^{\\top} x $$ \n",
    "$$s.t. \\quad Ax = b $$\n",
    "$$x \\geq 0 $$\n",
    "we can define its dual problem as \n",
    "$$\\max_{y} \\quad z_D = b^{\\top} y $$\n",
    "$$s.t. \\quad A^{\\top}y\\geq c $$\n",
    "where $y$ is called teh dual variable vector.\n",
    "\n",
    "Considering this, formulate the dual problem associated to the model derived in 2) (check slide 60 of the Linear Programming topic for an example of this transformation)."
   ]
  },
  {
   "cell_type": "markdown",
   "metadata": {},
   "source": [
    "# Exercise 5\n",
    "Implement the dual model derived in 4) in Pyomo and solve it for the same data in 3). Report the results."
   ]
  },
  {
   "cell_type": "code",
   "execution_count": null,
   "metadata": {
    "collapsed": true
   },
   "outputs": [],
   "source": []
  },
  {
   "cell_type": "code",
   "execution_count": null,
   "metadata": {
    "collapsed": true
   },
   "outputs": [],
   "source": []
  },
  {
   "cell_type": "markdown",
   "metadata": {},
   "source": [
    "# Exercise 6\n",
    "The Strong Duality Theorem states that:\n",
    "\n",
    "If $x^*$ is the optimal solution of the primal minimization LP problem, and $y^*$ is the dual optimal solution of the corresponding dual maximization LP problem, then\n",
    "\n",
    "$$z^*_D = b^{\\top} y^* = c^{\\top} x^* = z^*_P $$\n",
    "\n",
    "Comparing the solutions in 3) and 5), check if the Strong Duality Theorem holds. What is the relationship between the sensitivities computed in 3) and the optimal value of the dual variables obtained in 5)?"
   ]
  },
  {
   "cell_type": "markdown",
   "metadata": {},
   "source": [
    "# Exercise 7\n",
    "Imagine now that google is able to display simultaneously n company ads for each requested query (instead of only one). Moreover, assume that the specific order in which these ads are displayed is important. Indicate how the model in 1) would need to be modified to account for these facts. Also, indicate if any additional problem data will be necessary for this new setting."
   ]
  },
  {
   "cell_type": "markdown",
   "metadata": {},
   "source": [
    "# IMPORTANT:\n",
    "\n",
    "Upload the formulations 1), 2), 4) and 7) as well as the answers to the different questions in a pdf file (generated with MSWord, latex or similar) and the codes for 3) and 5) as separated .py and .dat files.\n",
    "\n",
    "This assignment can be done individually or in groups (up to 4 components). Groups must be the same for all the assignments. Files need to be uploaded by only one member of the group. Do not forget to indicate in the pdf file all the group’s components."
   ]
  }
 ],
 "metadata": {
  "anaconda-cloud": {},
  "kernelspec": {
   "display_name": "Python 2",
   "language": "python",
   "name": "python2"
  },
  "language_info": {
   "codemirror_mode": {
    "name": "ipython",
    "version": 2
   },
   "file_extension": ".py",
   "mimetype": "text/x-python",
   "name": "python",
   "nbconvert_exporter": "python",
   "pygments_lexer": "ipython2",
   "version": "2.7.11"
  }
 },
 "nbformat": 4,
 "nbformat_minor": 0
}
