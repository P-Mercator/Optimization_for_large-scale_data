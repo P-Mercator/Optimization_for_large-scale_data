{
 "cells": [
  {
   "cell_type": "markdown",
   "metadata": {},
   "source": [
    "# 2 st Assignment: Mixed-Integer Linear Programming\n",
    "\n",
    "Generate random data, consider n=500 observations (i=1,…,500), from a predefined linear regression model with m=20 variables (j=1,…,20). Assume that the regression coefficients are integers so that −5 ≤ 𝛽 𝑗 ≤ 5. Assume also independent normal residuals.\n",
    "\n",
    "$$ Y = \\beta ' X + \\epsilon $$"
   ]
  },
  {
   "cell_type": "code",
   "execution_count": 3,
   "metadata": {
    "collapsed": false
   },
   "outputs": [],
   "source": [
    "# Imports\n",
    "\n",
    "import numpy as np\n",
    "import pandas as pd\n",
    "from sklearn.datasets import make_regression"
   ]
  },
  {
   "cell_type": "markdown",
   "metadata": {},
   "source": [
    "## Exercise 1\n",
    "\n",
    "The classical least squares approach is to find the values of vector 𝛽 = (𝛽 1 , … , 𝛽 𝑗 , … , 𝛽 𝑚 ) 𝑇 so that:\n",
    "\n",
    "$$ \\min_{\\beta} \\sum^n_{i=1} (y_i - \\beta ' x_i)^2) $$\n",
    "    \n",
    "where $x_i = (x_{1i} , … , x_{2i} , … , x_{mi} )$ 𝑇 for $ i = 1, ...,n.$\n",
    "\n",
    "Estimate the value of the regression coefficients by using the analytical solution for the least squares estimation problem. Tip:\n",
    "\n",
    "$$\\beta_{ls} = (X^T X)^{-1}X^TY $$"
   ]
  },
  {
   "cell_type": "code",
   "execution_count": 49,
   "metadata": {
    "collapsed": false
   },
   "outputs": [],
   "source": [
    "# Create random dataset \n",
    "i,j = 500,20\n",
    "reg = make_regression(i,j)\n",
    "Y = reg[1].reshape(i,1)\n",
    "X = np.column_stack((np.ones(i),np.asmatrix(reg[0])))"
   ]
  },
  {
   "cell_type": "code",
   "execution_count": 50,
   "metadata": {
    "collapsed": false
   },
   "outputs": [
    {
     "data": {
      "text/plain": [
       "matrix([[ -4.88498131e-15],\n",
       "        [  2.22044605e-15],\n",
       "        [  6.51655011e+00],\n",
       "        [ -5.10702591e-15],\n",
       "        [  1.90630116e+01],\n",
       "        [  7.81599133e+01],\n",
       "        [ -5.55111512e-15],\n",
       "        [  4.00513113e+01],\n",
       "        [  7.24928285e+01],\n",
       "        [  7.89537469e+01],\n",
       "        [ -9.32587341e-15],\n",
       "        [ -1.77635684e-15],\n",
       "        [ -5.77315973e-15],\n",
       "        [  3.77475828e-15],\n",
       "        [ -4.88498131e-15],\n",
       "        [  9.93201764e+01],\n",
       "        [  1.77635684e-15],\n",
       "        [  4.83800014e+01],\n",
       "        [  2.12171520e+01],\n",
       "        [  5.10702591e-15],\n",
       "        [  7.15557054e+01]])"
      ]
     },
     "execution_count": 50,
     "metadata": {},
     "output_type": "execute_result"
    }
   ],
   "source": [
    "beta = np.linalg.inv(np.transpose(X)*X)*np.transpose(X)*Y\n",
    "beta"
   ]
  },
  {
   "cell_type": "markdown",
   "metadata": {},
   "source": [
    "## Exercise 2\n",
    "\n",
    "As an alternative, the least absolute value approach seeks to find the values of β by solving the following problem:\n",
    "\n",
    "$$ \\min_{\\beta} \\sum^n_{i=1} |y_i - \\beta ' x_i| $$\n",
    "\n",
    "Propose and implement in Pyomo an equivalent linear formulation for this problem. Compare the resulting β coefficients with the ones obtained in exercise 1)."
   ]
  },
  {
   "cell_type": "markdown",
   "metadata": {},
   "source": [
    "## Exercise 3\n",
    "\n",
    "Now assume that we want to impose the condition that only k factors (variables) affect the dependent variable Y. Extend the formulation in exercise 2 to a MILP (mixed integer linear optimization problem) to model the additional condition that up to k out of the β j coefficients have nonzero values."
   ]
  },
  {
   "cell_type": "markdown",
   "metadata": {},
   "source": [
    "## Exercise 4\n",
    "\n",
    "Solve the problem in exercise 3 in Pyomo for k=1,…,20 and represent the behavior of the objective function with respect to k."
   ]
  },
  {
   "cell_type": "markdown",
   "metadata": {},
   "source": [
    "## Exercise 5\n",
    "\n",
    "Another possibility to find β is the robust linear regression problem that exploits the robustness of the error median against outliers. It can be formulated as:\n",
    "\n",
    "$$ \\min_{\\beta} \\, median\\, (|y_1-\\beta ' x_1\\, ..., |y_n - \\beta ' x_n| ) $$\n",
    "\n",
    "Formulate this model as a MILP and implement and solve it in Pyomo. Due to its computational complexity, consider as an input n=30 random observations (i=1,...,30), from a linear regression model with m=5 variables (j=1,...,5)."
   ]
  }
 ],
 "metadata": {
  "anaconda-cloud": {},
  "kernelspec": {
   "display_name": "Python [default]",
   "language": "python",
   "name": "python2"
  },
  "language_info": {
   "codemirror_mode": {
    "name": "ipython",
    "version": 2
   },
   "file_extension": ".py",
   "mimetype": "text/x-python",
   "name": "python",
   "nbconvert_exporter": "python",
   "pygments_lexer": "ipython2",
   "version": "2.7.12"
  }
 },
 "nbformat": 4,
 "nbformat_minor": 1
}
